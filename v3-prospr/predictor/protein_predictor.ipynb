{
 "cells": [
  {
   "cell_type": "markdown",
   "id": "400d1e71",
   "metadata": {},
   "source": [
    "# README\n",
    "## Input\n",
    "1. path to a3m data\n",
    "    1. a3m file can be generated from https://toolkit.tuebingen.mpg.de/tools/hhblits\n",
    "2. seq name\n",
    "3. optional config"
   ]
  },
  {
   "cell_type": "code",
   "execution_count": 1,
   "id": "e411596c",
   "metadata": {},
   "outputs": [],
   "source": [
    "data_path = \"/predictor/data\"\n",
    "\n",
    "prospr_path = \"/prospr\"\n",
    "\n",
    "dbug = True"
   ]
  },
  {
   "cell_type": "markdown",
   "id": "9894b738",
   "metadata": {},
   "source": [
    "## Seq Name\n",
    "Seq name should be the same as A3M file name"
   ]
  },
  {
   "cell_type": "code",
   "execution_count": 6,
   "id": "62ca622b",
   "metadata": {},
   "outputs": [],
   "source": [
    "seq_name = 'T0955-2T'"
   ]
  },
  {
   "cell_type": "markdown",
   "id": "9dba3a24",
   "metadata": {},
   "source": [
    "## Prediction"
   ]
  },
  {
   "cell_type": "code",
   "execution_count": 7,
   "id": "ccf21f31",
   "metadata": {},
   "outputs": [
    {
     "name": "stdout",
     "output_type": "stream",
     "text": [
      "/predictor/data/T0955-2T/T0955-2T.a3m\n",
      "/predictor/data/T0955-2T/T0955-2T_prediction.pkl\n"
     ]
    }
   ],
   "source": [
    "input_a3m_file = data_path + '/' + seq_name + '/' + seq_name + '.a3m'\n",
    "output_pkl_file = data_path + '/' + seq_name + '/'+seq_name + '_prediction.pkl'\n",
    "if dbug == True:\n",
    "    print(input_a3m_file)\n",
    "    print(output_pkl_file)"
   ]
  },
  {
   "cell_type": "code",
   "execution_count": 8,
   "id": "c967e8ca",
   "metadata": {
    "scrolled": true
   },
   "outputs": [
    {
     "name": "stdout",
     "output_type": "stream",
     "text": [
      "Buildling input vector...\n",
      "Loading ProSPr model(s)...\n",
      "Model location: cuda:0\n",
      "Making predictions...\n",
      "Model location: cuda:0\n",
      "Making predictions...\n",
      "Model location: cuda:0\n",
      "Making predictions...\n",
      "Saving results...\n",
      "Done! Successfully saved at  ./../predictor/data/T0955-2T/T0955-2T_prediction.pkl\n"
     ]
    },
    {
     "name": "stderr",
     "output_type": "stream",
     "text": [
      "2021-04-18 17:26:24.216547: W tensorflow/stream_executor/platform/default/dso_loader.cc:60] Could not load dynamic library 'libcudart.so.11.0'; dlerror: libcudart.so.11.0: cannot open shared object file: No such file or directory; LD_LIBRARY_PATH: /usr/local/nvidia/lib:/usr/local/nvidia/lib64\n",
      "2021-04-18 17:26:24.216563: I tensorflow/stream_executor/cuda/cudart_stub.cc:29] Ignore above cudart dlerror if you do not have a GPU set up on your machine.\n",
      "- 17:26:25.438 INFO: ../predictor/data/T0955-2T/T0955-2T.a3m is in A2M, A3M or FASTA format\n",
      "\n",
      "2021-04-18 17:26:25.447724: I tensorflow/compiler/jit/xla_cpu_device.cc:41] Not creating XLA devices, tf_xla_enable_xla_devices not set\n",
      "2021-04-18 17:26:25.447816: I tensorflow/stream_executor/platform/default/dso_loader.cc:49] Successfully opened dynamic library libcuda.so.1\n",
      "2021-04-18 17:26:25.447955: I tensorflow/stream_executor/cuda/cuda_gpu_executor.cc:941] successful NUMA node read from SysFS had negative value (-1), but there must be at least one NUMA node, so returning NUMA node zero\n",
      "2021-04-18 17:26:25.448506: I tensorflow/core/common_runtime/gpu/gpu_device.cc:1720] Found device 0 with properties: \n",
      "pciBusID: 0000:05:00.0 name: Tesla K80 computeCapability: 3.7\n",
      "coreClock: 0.8235GHz coreCount: 13 deviceMemorySize: 11.17GiB deviceMemoryBandwidth: 223.96GiB/s\n",
      "2021-04-18 17:26:25.448564: I tensorflow/stream_executor/cuda/cuda_gpu_executor.cc:941] successful NUMA node read from SysFS had negative value (-1), but there must be at least one NUMA node, so returning NUMA node zero\n",
      "2021-04-18 17:26:25.449137: I tensorflow/core/common_runtime/gpu/gpu_device.cc:1720] Found device 1 with properties: \n",
      "pciBusID: 0000:06:00.0 name: Tesla K80 computeCapability: 3.7\n",
      "coreClock: 0.8235GHz coreCount: 13 deviceMemorySize: 11.17GiB deviceMemoryBandwidth: 223.96GiB/s\n",
      "2021-04-18 17:26:25.449226: W tensorflow/stream_executor/platform/default/dso_loader.cc:60] Could not load dynamic library 'libcudart.so.11.0'; dlerror: libcudart.so.11.0: cannot open shared object file: No such file or directory; LD_LIBRARY_PATH: /usr/local/nvidia/lib:/usr/local/nvidia/lib64\n",
      "2021-04-18 17:26:25.449280: W tensorflow/stream_executor/platform/default/dso_loader.cc:60] Could not load dynamic library 'libcublas.so.11'; dlerror: libcublas.so.11: cannot open shared object file: No such file or directory; LD_LIBRARY_PATH: /usr/local/nvidia/lib:/usr/local/nvidia/lib64\n",
      "2021-04-18 17:26:25.449344: W tensorflow/stream_executor/platform/default/dso_loader.cc:60] Could not load dynamic library 'libcublasLt.so.11'; dlerror: libcublasLt.so.11: cannot open shared object file: No such file or directory; LD_LIBRARY_PATH: /usr/local/nvidia/lib:/usr/local/nvidia/lib64\n",
      "2021-04-18 17:26:25.450477: I tensorflow/stream_executor/platform/default/dso_loader.cc:49] Successfully opened dynamic library libcufft.so.10\n",
      "2021-04-18 17:26:25.450671: I tensorflow/stream_executor/platform/default/dso_loader.cc:49] Successfully opened dynamic library libcurand.so.10\n",
      "2021-04-18 17:26:25.451933: I tensorflow/stream_executor/platform/default/dso_loader.cc:49] Successfully opened dynamic library libcusolver.so.10\n",
      "2021-04-18 17:26:25.451999: W tensorflow/stream_executor/platform/default/dso_loader.cc:60] Could not load dynamic library 'libcusparse.so.11'; dlerror: libcusparse.so.11: cannot open shared object file: No such file or directory; LD_LIBRARY_PATH: /usr/local/nvidia/lib:/usr/local/nvidia/lib64\n",
      "2021-04-18 17:26:25.452065: W tensorflow/stream_executor/platform/default/dso_loader.cc:60] Could not load dynamic library 'libcudnn.so.8'; dlerror: libcudnn.so.8: cannot open shared object file: No such file or directory; LD_LIBRARY_PATH: /usr/local/nvidia/lib:/usr/local/nvidia/lib64\n",
      "2021-04-18 17:26:25.452071: W tensorflow/core/common_runtime/gpu/gpu_device.cc:1757] Cannot dlopen some GPU libraries. Please make sure the missing libraries mentioned above are installed properly if you would like to use GPU. Follow the guide at https://www.tensorflow.org/install/gpu for how to download and setup the required libraries for your platform.\n",
      "Skipping registering GPU devices...\n",
      "2021-04-18 17:26:25.452327: I tensorflow/core/platform/cpu_feature_guard.cc:142] This TensorFlow binary is optimized with oneAPI Deep Neural Network Library (oneDNN) to use the following CPU instructions in performance-critical operations:  AVX2 FMA\n",
      "To enable them in other operations, rebuild TensorFlow with the appropriate compiler flags.\n",
      "2021-04-18 17:26:25.452590: I tensorflow/compiler/jit/xla_gpu_device.cc:99] Not creating XLA devices, tf_xla_enable_xla_devices not set\n",
      "2021-04-18 17:26:25.452604: I tensorflow/core/common_runtime/gpu/gpu_device.cc:1261] Device interconnect StreamExecutor with strength 1 edge matrix:\n",
      "2021-04-18 17:26:25.452607: I tensorflow/core/common_runtime/gpu/gpu_device.cc:1267]      \n"
     ]
    }
   ],
   "source": [
    "%%bash -s \"$seq_name\" \"$data_path\" \"$prospr_path\"\n",
    "export PATH=\"/hh-suite/build/bin:/hh-suite/build/scripts:$PATH\"\n",
    "cd $3\n",
    "python prospr.py ..$2/$1/$1.a3m"
   ]
  },
  {
   "cell_type": "markdown",
   "id": "7673a66d",
   "metadata": {},
   "source": [
    "## Visualization"
   ]
  },
  {
   "cell_type": "code",
   "execution_count": 9,
   "id": "33b81827",
   "metadata": {},
   "outputs": [
    {
     "data": {
      "text/plain": [
       "Text(0, 0.5, 'Residue j')"
      ]
     },
     "execution_count": 9,
     "metadata": {},
     "output_type": "execute_result"
    },
    {
     "data": {
      "image/png": "[encoded data removed]",
      "text/plain": [
       "<Figure size 432x288 with 1 Axes>"
      ]
     },
     "metadata": {
      "needs_background": "light"
     },
     "output_type": "display_data"
    }
   ],
   "source": [
    "import numpy as np\n",
    "import matplotlib.pyplot as plt\n",
    "import pickle as pkl\n",
    "import pandas as pd\n",
    "\n",
    "def load(fileName):\n",
    "    fileObject2 = open(fileName, 'rb')\n",
    "    modelInput = pkl.load(fileObject2)\n",
    "    fileObject2.close()\n",
    "    return modelInput\n",
    "\n",
    "prediction = load(output_pkl_file)\n",
    "\n",
    "plt.imshow(-np.argmax(prediction['dist'][1:,:,:],axis=0))\n",
    "plt.suptitle('ProSPr '+seq_name+' Prediction', fontsize=14)\n",
    "plt.title('Network all, Stride 1', fontsize=10)\n",
    "plt.xlabel('Residue i')\n",
    "plt.ylabel('Residue j')"
   ]
  },
  {
   "cell_type": "code",
   "execution_count": 10,
   "id": "fcf9acf4",
   "metadata": {},
   "outputs": [
    {
     "data": {
      "text/plain": [
       "Text(0, 0.5, 'Residue j')"
      ]
     },
     "execution_count": 10,
     "metadata": {},
     "output_type": "execute_result"
    },
    {
     "data": {
      "image/png": "[encoded data removed]",
      "text/plain": [
       "<Figure size 432x288 with 1 Axes>"
      ]
     },
     "metadata": {
      "needs_background": "light"
     },
     "output_type": "display_data"
    }
   ],
   "source": [
    "prediction = load('/predictor/data/T0955/T0955_prediction.pkl')\n",
    "\n",
    "plt.imshow(-np.argmax(prediction['dist'][1:,:,:],axis=0))\n",
    "plt.suptitle('ProSPr '+seq_name+' Prediction', fontsize=14)\n",
    "plt.title('Network all, Stride 1', fontsize=10)\n",
    "plt.xlabel('Residue i')\n",
    "plt.ylabel('Residue j')"
   ]
  },
  {
   "cell_type": "code",
   "execution_count": null,
   "id": "154c1d3e",
   "metadata": {},
   "outputs": [],
   "source": []
  }
 ],
 "metadata": {
  "kernelspec": {
   "display_name": "Python 3",
   "language": "python",
   "name": "python3"
  },
  "language_info": {
   "codemirror_mode": {
    "name": "ipython",
    "version": 3
   },
   "file_extension": ".py",
   "mimetype": "text/x-python",
   "name": "python",
   "nbconvert_exporter": "python",
   "pygments_lexer": "ipython3",
   "version": "3.6.9"
  }
 },
 "nbformat": 4,
 "nbformat_minor": 5
}
